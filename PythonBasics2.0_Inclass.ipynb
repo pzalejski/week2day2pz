{
 "cells": [
  {
   "cell_type": "markdown",
   "metadata": {},
   "source": [
    "# Data Collections 2 (Dictionaries, Sets) and Importing Modules"
   ]
  },
  {
   "cell_type": "markdown",
   "metadata": {},
   "source": [
    "## Tasks Today:\n",
    "\n",
    "1) Dictionary <br>\n",
    " &nbsp;&nbsp;&nbsp;&nbsp; a) Declaring (key, value) <br>\n",
    " &nbsp;&nbsp;&nbsp;&nbsp; b) Accessing Values <br>\n",
    " &nbsp;&nbsp;&nbsp;&nbsp; ------ Exercise #1 - Print the eye color of each person in a double nested dict <br>\n",
    " &nbsp;&nbsp;&nbsp;&nbsp; c) Adding New Pairs <br>\n",
    " &nbsp;&nbsp;&nbsp;&nbsp; d) Modifying Values <br>\n",
    " &nbsp;&nbsp;&nbsp;&nbsp; e) Removing Key, Value Pairs <br>\n",
    " &nbsp;&nbsp;&nbsp;&nbsp; f) Looping a Dictionary <br>\n",
    " &nbsp;&nbsp;&nbsp;&nbsp; g) Looping Only Keys <br>\n",
    " &nbsp;&nbsp;&nbsp;&nbsp; h) Looping Only Values <br>\n",
    " &nbsp;&nbsp;&nbsp;&nbsp; ------ Exercise #2 - Create a Function that Prints All Key Value Pairs within a print .format()  <br>\n",
    " &nbsp;&nbsp;&nbsp;&nbsp; i) sorted() <br>\n",
    " &nbsp;&nbsp;&nbsp;&nbsp; j) Lists with Dictionaries <br>\n",
    " &nbsp;&nbsp;&nbsp;&nbsp; k) Dictionaries with Lists <br>\n",
    " &nbsp;&nbsp;&nbsp;&nbsp; l) Dictionaries with Dictionaries <br>\n",
    "2) Hashing & Big 'O' Notation <br>\n",
    " &nbsp;&nbsp;&nbsp;&nbsp; ------ Exercise #3 - Write a Function that asks someone's name and address, and then stores that into a dictionary, which prints all names and addresses after they're done putting information in...  <br>\n",
    "3) Dictionaries vs. Lists (over time)<br>\n",
    "4) Set <br>\n",
    " &nbsp;&nbsp;&nbsp;&nbsp; a) Declaring <br>\n",
    " &nbsp;&nbsp;&nbsp;&nbsp; b) .add() <br>\n",
    " &nbsp;&nbsp;&nbsp;&nbsp; c) .remove() <br>\n",
    " &nbsp;&nbsp;&nbsp;&nbsp; d) .union() <br>\n",
    " &nbsp;&nbsp;&nbsp;&nbsp; e) .intersection() <br>\n",
    " &nbsp;&nbsp;&nbsp;&nbsp; f) .difference() <br>\n",
    " &nbsp;&nbsp;&nbsp;&nbsp; g) Frozen Set <br>\n",
    "5) Modules <br>\n",
    " &nbsp;&nbsp;&nbsp;&nbsp; a) Importing Entire Modules <br>\n",
    " &nbsp;&nbsp;&nbsp;&nbsp; b) Importing Methods Only <br>\n",
    " &nbsp;&nbsp;&nbsp;&nbsp; c) Using the 'as' Keyword <br>\n",
    " &nbsp;&nbsp;&nbsp;&nbsp; d) Creating a Module <br>\n",
    "6) Exercises <br>\n",
    " &nbsp;&nbsp;&nbsp;&nbsp; a) Build a Shopping Cart <br>\n",
    " &nbsp;&nbsp;&nbsp;&nbsp; b) Create Your Own Module <br>"
   ]
  },
  {
   "cell_type": "markdown",
   "metadata": {},
   "source": [
    "## Dictionary <br>\n",
    "<p>A collection of data with 'key:value' pairs. Dictionaries are ordered as of Python 3.6</p>"
   ]
  },
  {
   "cell_type": "markdown",
   "metadata": {},
   "source": [
    "##### Declaring (key, value)"
   ]
  },
  {
   "cell_type": "code",
   "execution_count": 3,
   "metadata": {},
   "outputs": [],
   "source": [
    "# keys should be unique\n",
    "# can use numbers or strings\n",
    "dict_empty = {} # empty dict\n",
    "\n",
    "dict_normal = {\n",
    "    'dave' : 'Main Street',\n",
    "    'sean' : '1st street',\n",
    "    0: 'This is a value for the key of 0'\n",
    "}\n",
    "\n",
    "\n"
   ]
  },
  {
   "cell_type": "markdown",
   "metadata": {},
   "source": [
    "##### Accessing Values"
   ]
  },
  {
   "cell_type": "code",
   "execution_count": 2,
   "metadata": {},
   "outputs": [
    {
     "data": {
      "text/plain": [
       "'Main Street'"
      ]
     },
     "execution_count": 2,
     "metadata": {},
     "output_type": "execute_result"
    }
   ],
   "source": [
    "# dict[key]\n",
    "\n",
    "dict_normal['dave']"
   ]
  },
  {
   "cell_type": "markdown",
   "metadata": {},
   "source": [
    "## In-Class Exercise #1 - Print a formatted statement from the dictionary below <br>\n",
    "<p>The output should be '2018 Chevrolet Silverado'</p>"
   ]
  },
  {
   "cell_type": "code",
   "execution_count": 9,
   "metadata": {},
   "outputs": [
    {
     "name": "stdout",
     "output_type": "stream",
     "text": [
      "2018 Chevrolet Silverado\n"
     ]
    }
   ],
   "source": [
    "# use the dict below\n",
    "\n",
    "truck = {\n",
    "    'year': 2018,\n",
    "    'make': 'Chevrolet',\n",
    "    'model': 'Silverado'\n",
    "}\n",
    "\n",
    "output = str(truck['year']) + ' ' + str(truck['make']) + ' ' + str(truck['model'])\n",
    "\n",
    "print(output)"
   ]
  },
  {
   "cell_type": "markdown",
   "metadata": {},
   "source": [
    "##### Adding New Pairs"
   ]
  },
  {
   "cell_type": "code",
   "execution_count": 10,
   "metadata": {},
   "outputs": [
    {
     "data": {
      "text/plain": [
       "'15th street'"
      ]
     },
     "execution_count": 10,
     "metadata": {},
     "output_type": "execute_result"
    }
   ],
   "source": [
    "# dict[key] = value\n",
    "dict_normal['bob'] = '15th street'\n",
    "\n",
    "dict_normal['bob']"
   ]
  },
  {
   "cell_type": "markdown",
   "metadata": {},
   "source": [
    "##### Modifying Values"
   ]
  },
  {
   "cell_type": "code",
   "execution_count": 11,
   "metadata": {},
   "outputs": [
    {
     "data": {
      "text/plain": [
       "{'dave': 'Main Street',\n",
       " 'sean': '1st street',\n",
       " 0: 'This is a value for the key of 0',\n",
       " 'bob': '555 normal dr'}"
      ]
     },
     "execution_count": 11,
     "metadata": {},
     "output_type": "execute_result"
    }
   ],
   "source": [
    "# dict[key] = value\n",
    "dict_normal['bob'] = '555 normal dr'\n",
    "\n",
    "dict_normal\n"
   ]
  },
  {
   "cell_type": "markdown",
   "metadata": {},
   "source": [
    "##### Removing Key, Value Pairs"
   ]
  },
  {
   "cell_type": "code",
   "execution_count": 12,
   "metadata": {},
   "outputs": [
    {
     "data": {
      "text/plain": [
       "{'dave': 'Main Street',\n",
       " 'sean': '1st street',\n",
       " 0: 'This is a value for the key of 0'}"
      ]
     },
     "execution_count": 12,
     "metadata": {},
     "output_type": "execute_result"
    }
   ],
   "source": [
    "# del dict[key]\n",
    "\n",
    "del dict_normal['bob']\n",
    "\n",
    "dict_normal\n",
    "\n",
    "#if you run again, will get error as bob no longer exists"
   ]
  },
  {
   "cell_type": "markdown",
   "metadata": {},
   "source": [
    "##### Looping a Dictionary"
   ]
  },
  {
   "cell_type": "code",
   "execution_count": 13,
   "metadata": {},
   "outputs": [
    {
     "name": "stdout",
     "output_type": "stream",
     "text": [
      "dave Main Street\n",
      "sean 1st street\n",
      "0 This is a value for the key of 0\n"
     ]
    }
   ],
   "source": [
    "# .items() will loop both keys and items\n",
    "# a, b, c = 1, 2, 3\n",
    "# print(a)\n",
    "# print(b)\n",
    "# print(c)\n",
    "\n",
    "for key, value in dict_normal.items():\n",
    "    print(key,value)"
   ]
  },
  {
   "cell_type": "markdown",
   "metadata": {},
   "source": [
    "##### Looping Only Keys"
   ]
  },
  {
   "cell_type": "code",
   "execution_count": 14,
   "metadata": {},
   "outputs": [
    {
     "name": "stdout",
     "output_type": "stream",
     "text": [
      "dave\n",
      "sean\n",
      "0\n"
     ]
    }
   ],
   "source": [
    "# .keys()\n",
    "\n",
    "for key in dict_normal.keys():\n",
    "    print(key)\n"
   ]
  },
  {
   "cell_type": "markdown",
   "metadata": {},
   "source": [
    "##### Looping Only Values"
   ]
  },
  {
   "cell_type": "code",
   "execution_count": 15,
   "metadata": {},
   "outputs": [
    {
     "name": "stdout",
     "output_type": "stream",
     "text": [
      "Main Street\n",
      "1st street\n",
      "This is a value for the key of 0\n"
     ]
    }
   ],
   "source": [
    "# .values()\n",
    "\n",
    "for values in dict_normal.values():\n",
    "    print(values)\n",
    "\n"
   ]
  },
  {
   "cell_type": "markdown",
   "metadata": {},
   "source": [
    "## In-Class Exercise #2 - Create a Function that Prints All Key Value Pairs within a print .format() <br>\n",
    "<p><b>Output should be:</b><br>\n",
    "Max has blue eyes<br>\n",
    "Lilly has brown eyes<br>\n",
    "Barney has blue eyes<br>\n",
    "etc.\n",
    "</p>"
   ]
  },
  {
   "cell_type": "code",
   "execution_count": 20,
   "metadata": {},
   "outputs": [
    {
     "name": "stdout",
     "output_type": "stream",
     "text": [
      "Max has blue eyes\n",
      "Lilly has brown eyes\n",
      "Barney has blue eyes\n",
      "Larney has brown eyes\n",
      "Ted has purple eyes\n"
     ]
    }
   ],
   "source": [
    "# use the dict below\n",
    "\n",
    "people = {\n",
    "    'Max': 'blue',\n",
    "    'Lilly': 'brown',\n",
    "    'Barney': 'blue',\n",
    "    'Larney': 'brown',\n",
    "    'Ted': 'purple'\n",
    "}\n",
    "\n",
    "for name, color in people.items():\n",
    "    print(f\"{name} has {color} eyes\")"
   ]
  },
  {
   "cell_type": "markdown",
   "metadata": {},
   "source": [
    "##### sorted()"
   ]
  },
  {
   "cell_type": "code",
   "execution_count": 22,
   "metadata": {},
   "outputs": [
    {
     "data": {
      "text/plain": [
       "['blue', 'blue', 'brown', 'brown', 'purple']"
      ]
     },
     "execution_count": 22,
     "metadata": {},
     "output_type": "execute_result"
    }
   ],
   "source": [
    "# sorts variables in order\n",
    "# sorted(dict.values()) or dict.keys() or dict.items()\n",
    "\n",
    "sorted(people.items())\n",
    "\n",
    "sorted(people.values())"
   ]
  },
  {
   "cell_type": "markdown",
   "metadata": {},
   "source": [
    "##### List with Dictionaries"
   ]
  },
  {
   "cell_type": "code",
   "execution_count": 24,
   "metadata": {},
   "outputs": [
    {
     "data": {
      "text/plain": [
       "'lebron'"
      ]
     },
     "execution_count": 24,
     "metadata": {},
     "output_type": "execute_result"
    }
   ],
   "source": [
    "names = ['dave', 'john','mike',{'first_name': 'lebron'}]\n",
    "\n",
    "names[3]['first_name']"
   ]
  },
  {
   "cell_type": "markdown",
   "metadata": {},
   "source": [
    "##### Dictionaries with Lists"
   ]
  },
  {
   "cell_type": "code",
   "execution_count": 25,
   "metadata": {},
   "outputs": [
    {
     "data": {
      "text/plain": [
       "'smith'"
      ]
     },
     "execution_count": 25,
     "metadata": {},
     "output_type": "execute_result"
    }
   ],
   "source": [
    "# be careful when using numbers as keys in dictionaries, don't confuse them with indexes\n",
    "\n",
    "dict_2 = {\n",
    "    'list':[54, 7, 'john'],\n",
    "    2: ['smith']\n",
    "}\n",
    "\n",
    "dict_2[2][0]"
   ]
  },
  {
   "cell_type": "markdown",
   "metadata": {},
   "source": [
    "##### Dictionaries with Dictionaries"
   ]
  },
  {
   "cell_type": "code",
   "execution_count": 27,
   "metadata": {},
   "outputs": [
    {
     "data": {
      "text/plain": [
       "'3.99'"
      ]
     },
     "execution_count": 27,
     "metadata": {},
     "output_type": "execute_result"
    }
   ],
   "source": [
    "# to get values, must traverse through keys\n",
    "dict_3 = {\n",
    "    'ice cream': {\n",
    "        'cho':'2.99',\n",
    "        'va':'3.99'\n",
    "    }\n",
    "}\n",
    "\n",
    "dict_3['ice cream']['va']\n"
   ]
  },
  {
   "cell_type": "markdown",
   "metadata": {},
   "source": [
    "## Using Python's Hashing Function"
   ]
  },
  {
   "cell_type": "code",
   "execution_count": 28,
   "metadata": {},
   "outputs": [
    {
     "name": "stdout",
     "output_type": "stream",
     "text": [
      "-7195739557083292103\n",
      "3435155177177458306\n",
      "-7195739557083292103\n",
      "-7195739557083292103\n"
     ]
    }
   ],
   "source": [
    "# hash(var)\n",
    "\n",
    "a = 'Bo'\n",
    "b = 'Bob'\n",
    "c = 'Bo'\n",
    "d = a\n",
    "\n",
    "\n",
    "print(hash(a))\n",
    "print(hash(b))\n",
    "print(hash(c))\n",
    "print(hash(d))"
   ]
  },
  {
   "cell_type": "markdown",
   "metadata": {},
   "source": [
    "# Big O Notation - Time & Space Complexity\n",
    "\n",
    "Big O Notation is the language we use when talking about how long an algorithm(function) takes to run.\n",
    "\n",
    "The most popular runtimes as explained in Big O Notation are (In Order of Speed): <br>\n",
    "\n",
    "| Name   |      Big O      |\n",
    "|----------|:-------------:|\n",
    "| Constant |  O(1) |\n",
    "| Logarithmic | O(log(n)) |\n",
    "| Linear |    O(n)   |\n",
    "|Linear-Logarithmic| O(nlog(n))|\n",
    "| Quadratic | O(n^2) |\n",
    "| Cubic | O(n^3) |\n",
    "| Exponential | O(2^n) |\n"
   ]
  },
  {
   "cell_type": "code",
   "execution_count": 53,
   "metadata": {},
   "outputs": [
    {
     "name": "stdout",
     "output_type": "stream",
     "text": [
      "36\n",
      "None\n",
      "0.0\n"
     ]
    }
   ],
   "source": [
    "import time\n",
    "\n",
    "start_time = time.time()\n",
    "\n",
    "\n",
    "#Example of Constant Time O(1)\n",
    "# constant, log, linear, linear-log are good news\n",
    "# quadratic, cubic, exponential are bad news\n",
    "\n",
    "# This runtime will stay the same, no matter the amount of items\n",
    "\n",
    "def constant_algo(items):\n",
    "    result = items[2] *items[2]\n",
    "    print(result)\n",
    "\n",
    "#end_time = time.time() - start_time\n",
    "\n",
    "print(constant_algo([4,5,6,8]))\n",
    "print(time.time() - start_time)\n"
   ]
  },
  {
   "cell_type": "markdown",
   "metadata": {},
   "source": [
    "### In order to best explain Logorithmic time, it is best to use a popular algorithm called `Binary Search`. This algorithm essentially halves the input that it is given each time a cycle is made. Here's a close look at the code:"
   ]
  },
  {
   "cell_type": "code",
   "execution_count": null,
   "metadata": {},
   "outputs": [],
   "source": [
    "# Binary Search \n",
    "\n",
    "# Logarithmic\n",
    "# The runtime is O(log(n)) | This is known as a divide and con\n",
    "\n",
    "def binary_search_helper_func(array,target,left,right):\n",
    "    while left <= right:\n",
    "        middle = (left + right) // 2\n",
    "        potentialmatch = arrat[middle]\n",
    "        \n",
    "        if target == potentialmatch:\n",
    "            reutrn f' The index is ... {middle}'\n",
    "        elif target < potentialmatch:\n",
    "            right = middle - 1\n",
    "        else: left = middle + 1\n",
    "    return -1\n",
    "\n",
    "def binarysearch(array, target):\n",
    "    return binary_search_helper_func(array, target, 0, len(array)-1)\n",
    "    \n",
    "binarysearch([1,5,23,111],5)"
   ]
  },
  {
   "cell_type": "code",
   "execution_count": 56,
   "metadata": {},
   "outputs": [
    {
     "name": "stdout",
     "output_type": "stream",
     "text": [
      "4\n",
      "5\n",
      "6\n",
      "8\n"
     ]
    }
   ],
   "source": [
    "# Example of Linear Time: O(n)\n",
    "\n",
    "# This runtime will increase, as the number of items increases\n",
    "\n",
    "def linear_algo(items):\n",
    "    for item in items:\n",
    "        print (item)\n",
    "        \n",
    "linear_algo([4,5,6,8])\n",
    "    \n"
   ]
  },
  {
   "cell_type": "code",
   "execution_count": 57,
   "metadata": {},
   "outputs": [
    {
     "name": "stdout",
     "output_type": "stream",
     "text": [
      "6 : 6\n",
      "6 : 7\n",
      "6 : 8\n",
      "6 : 9\n",
      "7 : 6\n",
      "7 : 7\n",
      "7 : 8\n",
      "7 : 9\n",
      "8 : 6\n",
      "8 : 7\n",
      "8 : 8\n",
      "8 : 9\n",
      "9 : 6\n",
      "9 : 7\n",
      "9 : 8\n",
      "9 : 9\n"
     ]
    }
   ],
   "source": [
    "# Example of Quadratic Time : O(n^2)\n",
    "\n",
    "# A function is known as quadratic if it requires us to complete two nested loops\n",
    "# And iterate over items in the loop multiple times.\n",
    "\n",
    "def quad_algo(items):\n",
    "    for item in items:\n",
    "        for item2 in items:\n",
    "            print(f'{item} : {item2}')\n",
    "\n",
    "quad_algo([6,7,8,9])"
   ]
  },
  {
   "cell_type": "markdown",
   "metadata": {},
   "source": [
    "## Dictionaries vs. Lists (over time) Example of RUNTIME\n",
    "### When inputting values in a Dictionary vs List"
   ]
  },
  {
   "cell_type": "code",
   "execution_count": 58,
   "metadata": {},
   "outputs": [],
   "source": [
    "import time\n",
    "\n",
    "\n",
    "# generate fake dictionary\n",
    "d = {}\n",
    "\n",
    "for i in range(10000000):\n",
    "    d[i] = 'value'\n",
    "    \n",
    "\n",
    "# generate fake list\n",
    "big_list = [x for x in range(10000000)]"
   ]
  },
  {
   "cell_type": "code",
   "execution_count": 59,
   "metadata": {},
   "outputs": [
    {
     "name": "stdout",
     "output_type": "stream",
     "text": [
      "value\n",
      "Elapsed time for dictionary: 0.0\n",
      "9999999\n",
      "Elapsed time for list: 0.7460033893585205\n"
     ]
    }
   ],
   "source": [
    "# tracking time for dictionary\n",
    "start_time = time.time()\n",
    "\n",
    "print(d[9999999])\n",
    "\n",
    "end_time = time.time() - start_time\n",
    "\n",
    "print('Elapsed time for dictionary: {}'.format(end_time))\n",
    "\n",
    "\n",
    "# tracking time for list\n",
    "start_time = time.time()\n",
    "\n",
    "for i in range(len(big_list)):\n",
    "    if i == 9999999:\n",
    "        print(i)\n",
    "\n",
    "end_time = time.time() - start_time\n",
    "\n",
    "print('Elapsed time for list: {}'.format(end_time))"
   ]
  },
  {
   "cell_type": "markdown",
   "metadata": {},
   "source": [
    "## Exercise #3 - Write a Function that asks someone's name and address, and then stores that into a dictionary, and continues to do so until they choose to 'quit'. Once they quit, the program should print all names and addresses. <br>\n",
    "<p>\n",
    "<b>Proper steps:</b><br>\n",
    "step 1: write a function that takes in information and stores it in a dictionary<br>\n",
    "step 2: define an empty dictionary to work with<br>\n",
    "step 3: create our loop, which asks the user for information until they quit<br>\n",
    "step 4: ask for the information, and store it into variables<br>\n",
    "step 5: check if the user types quit<br>\n",
    "step 5a: print out all information<br>\n",
    "step 5b: break out of the loop<br>\n",
    "step 6: if they didn't quit, add the information to the dictionary<br>\n",
    "step 7: invoke the function by calling it\n",
    "</p>"
   ]
  },
  {
   "cell_type": "code",
   "execution_count": 10,
   "metadata": {},
   "outputs": [
    {
     "name": "stdout",
     "output_type": "stream",
     "text": [
      "What is your name?: jj\n",
      "What is your address?: 123\n",
      "Would you like to continue adding more names and addresses? (quit to stop): q\n",
      "Jj's address is 123\n"
     ]
    }
   ],
   "source": [
    "\n",
    "def info():\n",
    "    info_dict = {}\n",
    "\n",
    "    \n",
    "    while True:\n",
    "        name= input('What is your name?: ').title()\n",
    "        address = input('What is your address?: ')\n",
    "\n",
    "\n",
    "        ask = input('Would you like to continue adding more names and addresses? (quit to stop): ').lower()\n",
    "\n",
    "        info_dict[name] = address\n",
    "        \n",
    "        if ask[0] == 'q':\n",
    "            for names, addresses in info_dict.items():\n",
    "                print(f\"{names}'s address is {addresses}\")\n",
    "            break\n",
    "\n",
    "        \n",
    "info()\n"
   ]
  },
  {
   "cell_type": "markdown",
   "metadata": {},
   "source": [
    "## Set <br>\n",
    "<p>A Set is an unordered collection data type that is iterable (loop), mutable, and has no duplicate elements.<br>Major advantage is that it is highly optimized in checking if something is in the set, as opposed to checking if something is in a list.</p>"
   ]
  },
  {
   "cell_type": "markdown",
   "metadata": {},
   "source": [
    "##### Declaring"
   ]
  },
  {
   "cell_type": "code",
   "execution_count": 14,
   "metadata": {},
   "outputs": [
    {
     "name": "stdout",
     "output_type": "stream",
     "text": [
      "{1, 2, 3, 4, 5}\n"
     ]
    }
   ],
   "source": [
    "# set() or {}\n",
    "# no order {3, 2, 1} outputs as {1, 2, 3}\n",
    "\n",
    "nums = {1,4,2,3,5}\n",
    "\n",
    "print(nums)\n",
    "\n"
   ]
  },
  {
   "cell_type": "markdown",
   "metadata": {},
   "source": [
    "##### .add()"
   ]
  },
  {
   "cell_type": "code",
   "execution_count": 16,
   "metadata": {},
   "outputs": [
    {
     "name": "stdout",
     "output_type": "stream",
     "text": [
      "{1, 2, 3, 4, 5, 88}\n"
     ]
    }
   ],
   "source": [
    "# set.add()\n",
    "\n",
    "nums.add(88)\n",
    "print(nums)"
   ]
  },
  {
   "cell_type": "markdown",
   "metadata": {},
   "source": [
    "##### .remove()"
   ]
  },
  {
   "cell_type": "code",
   "execution_count": 17,
   "metadata": {},
   "outputs": [
    {
     "name": "stdout",
     "output_type": "stream",
     "text": [
      "{1, 2, 3, 4, 5}\n"
     ]
    }
   ],
   "source": [
    "# removes by value\n",
    "# set.remove()\n",
    "\n",
    "nums.remove(88)\n",
    "print(nums)\n"
   ]
  },
  {
   "cell_type": "markdown",
   "metadata": {},
   "source": [
    "##### .union() "
   ]
  },
  {
   "cell_type": "code",
   "execution_count": 19,
   "metadata": {},
   "outputs": [
    {
     "name": "stdout",
     "output_type": "stream",
     "text": [
      "{1, 2, 3, 4, 8, 9}\n"
     ]
    }
   ],
   "source": [
    "# Returns a union of two sets, can also use '|' or set.union(set)\n",
    "# joins all numbers, gets rid of duplicates\n",
    "\n",
    "s1 = {1,2,3,4}\n",
    "s2 = {4, 8 ,9, 2}\n",
    "\n",
    "\n",
    "s3 = s1.union(s2)\n",
    "\n",
    "print(s3)\n"
   ]
  },
  {
   "cell_type": "markdown",
   "metadata": {},
   "source": [
    "##### .intersection()"
   ]
  },
  {
   "cell_type": "code",
   "execution_count": 22,
   "metadata": {},
   "outputs": [
    {
     "name": "stdout",
     "output_type": "stream",
     "text": [
      "{2, 4}\n",
      "{2, 4}\n"
     ]
    }
   ],
   "source": [
    "# Returns an intersection of two sets, can also use '&'\n",
    "# only takes similar elements from both sets \n",
    "# in other words, what is present in both sets\n",
    "\n",
    "intersect = s1 & s2\n",
    "intersect2 = s1.intersection(s2)\n",
    "\n",
    "print(intersect)\n",
    "print(intersect2)\n"
   ]
  },
  {
   "cell_type": "markdown",
   "metadata": {},
   "source": [
    "##### .difference()"
   ]
  },
  {
   "cell_type": "code",
   "execution_count": 26,
   "metadata": {},
   "outputs": [
    {
     "name": "stdout",
     "output_type": "stream",
     "text": [
      "{1, 3}\n",
      "{1, 3}\n",
      "{8, 9}\n"
     ]
    }
   ],
   "source": [
    "# Returns a set containing all the elements of invoking set that are not in the second set, can also use '-'\n",
    "# only takes values from the first set that are not in the second set\n",
    "# order matters\n",
    "\n",
    "difference = s1 - s2\n",
    "difference2 = s1.difference(s2)\n",
    "difference3 = s2.difference(s1)\n",
    "\n",
    "print(difference)\n",
    "print(difference2)\n",
    "print(difference3)\n",
    "\n"
   ]
  },
  {
   "cell_type": "markdown",
   "metadata": {},
   "source": [
    "##### .clear()"
   ]
  },
  {
   "cell_type": "code",
   "execution_count": 28,
   "metadata": {},
   "outputs": [
    {
     "name": "stdout",
     "output_type": "stream",
     "text": [
      "set()\n"
     ]
    }
   ],
   "source": [
    "# Empties the whole set\n",
    "# set.clear()\n",
    "difference.clear()\n",
    "print(difference)\n"
   ]
  },
  {
   "cell_type": "markdown",
   "metadata": {},
   "source": [
    "##### Frozenset <br>\n",
    "<p>Frozen sets are immutable objects that only support methods and operators that produce a result without affecting the frozen set or sets to which they are applied.</p><br><b>Unique & Immutable</b>"
   ]
  },
  {
   "cell_type": "code",
   "execution_count": 37,
   "metadata": {},
   "outputs": [
    {
     "name": "stdout",
     "output_type": "stream",
     "text": [
      "frozenset({2, 4})\n",
      "2\n",
      "4\n"
     ]
    }
   ],
   "source": [
    "# frozenset([])\n",
    "\n",
    "myfrozeset = frozenset(intersect)\n",
    "print(myfrozeset)\n",
    "\n",
    "#myfrozeset.add(5)\n",
    "\n",
    "for i in myfrozeset:\n",
    "    print(i)\n"
   ]
  },
  {
   "cell_type": "markdown",
   "metadata": {},
   "source": [
    "## Modules"
   ]
  },
  {
   "cell_type": "markdown",
   "metadata": {},
   "source": [
    "##### Importing Entire Modules"
   ]
  },
  {
   "cell_type": "code",
   "execution_count": 54,
   "metadata": {},
   "outputs": [
    {
     "name": "stdout",
     "output_type": "stream",
     "text": [
      "3.141592653589793\n",
      "3\n",
      "3\n",
      "4\n",
      "25\n",
      "44\n"
     ]
    }
   ],
   "source": [
    "# import or from 'xxx' import *\n",
    "# import math\n",
    "\n",
    "import math\n",
    "\n",
    "print(math.pi)\n",
    "print(math.floor(3.500)) # rounds down\n",
    "print(math.floor(3.6))\n",
    "\n",
    "print(math.ceil(3.5)) # rounds up\n",
    "\n",
    "import statistics\n",
    "\n",
    "print(statistics.mean(range(1,50))) # mean takes sum of items / num of items \n",
    "print(statistics.median([33,44,2,89,60,50,39])) # median takes middle value in list "
   ]
  },
  {
   "cell_type": "markdown",
   "metadata": {},
   "source": [
    "##### Importing Methods Only"
   ]
  },
  {
   "cell_type": "code",
   "execution_count": 55,
   "metadata": {},
   "outputs": [
    {
     "name": "stdout",
     "output_type": "stream",
     "text": [
      "3\n",
      "4\n"
     ]
    }
   ],
   "source": [
    "# from 'xxx' import 'xxx'\n",
    "# from math import floor\n",
    "\n",
    "from math import floor, ceil # will only import floor and ceil\n",
    "\n",
    "print(floor(3.600))\n",
    "print(ceil(3.700))\n"
   ]
  },
  {
   "cell_type": "markdown",
   "metadata": {},
   "source": [
    "##### Using the 'as' Keyword"
   ]
  },
  {
   "cell_type": "code",
   "execution_count": 56,
   "metadata": {},
   "outputs": [
    {
     "name": "stdout",
     "output_type": "stream",
     "text": [
      "5\n"
     ]
    }
   ],
   "source": [
    "# from 'xxx' import 'xxx' as 'xxx' or import 'xxx' as 'xxx'\n",
    "# from math import floor as f\n",
    "\n",
    "import statistics as st\n",
    "\n",
    "print(st.mean([2,4,6,8]))\n"
   ]
  },
  {
   "cell_type": "markdown",
   "metadata": {},
   "source": [
    "##### Creating a Module"
   ]
  },
  {
   "cell_type": "code",
   "execution_count": 58,
   "metadata": {},
   "outputs": [
    {
     "name": "stdout",
     "output_type": "stream",
     "text": [
      "What's up Peter?\n",
      "What's up John?\n"
     ]
    }
   ],
   "source": [
    "# %run is only used in jupyter notebook, within VS Code you would use same import syntax as above\n",
    "# %run module.py\n",
    "\n",
    "# from 'xxx' import * will import all functions in module\n",
    "\n",
    "import my_module\n",
    "\n",
    "my_module.printname('Peter')\n",
    "\n",
    "from my_module import printname\n",
    "\n",
    "printname('John')\n",
    "\n",
    "\n",
    "\n",
    "# how it would normally look in VS Code\n",
    "# from calculations import printName\n",
    "\n",
    "# printName('Connor')"
   ]
  },
  {
   "cell_type": "markdown",
   "metadata": {},
   "source": [
    "# Exercises"
   ]
  },
  {
   "cell_type": "markdown",
   "metadata": {},
   "source": [
    "### 1) Build a Shopping Cart <br>\n",
    "<p><b>You can use either lists or dictionaries. The program should have the following capabilities:</b><br><br>\n",
    "1) Takes in input <br>\n",
    "2) Stores user input into a dictionary <br>\n",
    "3) User can add or delete items <br>\n",
    "4) User can see current shopping list <br>\n",
    "5) Loops until user 'quits' <br>\n",
    "6) Upon quiting the program, print out all items in the user's list <br>\n",
    "</p>"
   ]
  },
  {
   "cell_type": "code",
   "execution_count": 5,
   "metadata": {},
   "outputs": [
    {
     "name": "stdout",
     "output_type": "stream",
     "text": [
      "Shopping Cart:['milk']\n"
     ]
    }
   ],
   "source": [
    "from IPython.display import clear_output # clears console output value\n",
    "\n",
    "def shoppingcart():\n",
    "    cart = []\n",
    "    \n",
    "    start_item = input(\"Enter item to add to your cart: \")\n",
    "    \n",
    "    cart.append(start_item)\n",
    "    \n",
    "    clear_output()\n",
    "    \n",
    "    print(f\"Shopping Cart: {cart}\")\n",
    "    \n",
    "    while True:   \n",
    "        ask = input('Would you like to add another item, remove an item, or stop shopping?\\nEnter \"add\", \"remove\" , \"stop\": ').lower()\n",
    "                \n",
    "        if ask[0] == 'a':\n",
    "            clear_output()\n",
    "            add = input('Add: ')\n",
    "            cart.append(add)\n",
    "            clear_output()\n",
    "            print(f\"Shopping Cart:{cart}\")\n",
    "        elif ask[0] == 'r':\n",
    "            clear_output()\n",
    "            remove = input('Remove: ')\n",
    "            if remove not in cart:\n",
    "                clear_output()\n",
    "                print(f\"{remove.title()} is not in your cart!\")\n",
    "                print(f\"Shopping Cart:{cart}\")\n",
    "            else:\n",
    "                cart.remove(remove)\n",
    "                clear_output()\n",
    "                print(f\"Shopping Cart:{cart}\")\n",
    "        elif ask[0] == 's':\n",
    "            clear_output()\n",
    "            print(f\"Shopping Cart:{cart}\")\n",
    "            break\n",
    "        else:\n",
    "            clear_output()\n",
    "            print(\"I'm sorry, I do not understand...\")\n",
    "\n",
    "shoppingcart()"
   ]
  },
  {
   "cell_type": "markdown",
   "metadata": {},
   "source": [
    "### 2) Create a Module in VS Code and Import It <br>\n",
    "<p><b>Module should have the following capabilities:</b><br><br>\n",
    "1) Has a function to calculate the square footage of a house <br>\n",
    "    <b>Reminder of Formula: Length X Width == Area<br>\n",
    "        <hr>\n",
    "2) Has a function to calculate the circumference of a circle <br><br>\n",
    "<b>Program in Jupyter Notebook should take in user input and use imported functions to calculate a circle's circumference or a houses square footage</b>\n",
    "</p>"
   ]
  },
  {
   "cell_type": "code",
   "execution_count": 7,
   "metadata": {},
   "outputs": [
    {
     "name": "stdout",
     "output_type": "stream",
     "text": [
      "What is the length (ft) of your house?: 30\n",
      "What is the width (ft) of your house?: 30\n",
      "The area of your house is 900sq ft\n"
     ]
    }
   ],
   "source": [
    "import day2hw\n",
    "from IPython.display import clear_output\n",
    "\n",
    "ask = input(\"Would you like to know the square footage of a house or circumference of a circle?\\nEnter 'house' or 'circle: '\").lower()\n",
    "\n",
    "clear_output()\n",
    "\n",
    "if ask[0] == 'h':\n",
    "    print(day2hw.area())\n",
    "elif ask[0] == 'c':\n",
    "    print(day2hw.circ())\n",
    "else:\n",
    "    print(\"I'm sorry, I do not understand what you want me to do....\")"
   ]
  },
  {
   "cell_type": "code",
   "execution_count": null,
   "metadata": {},
   "outputs": [],
   "source": []
  }
 ],
 "metadata": {
  "kernelspec": {
   "display_name": "Python 3",
   "language": "python",
   "name": "python3"
  },
  "language_info": {
   "codemirror_mode": {
    "name": "ipython",
    "version": 3
   },
   "file_extension": ".py",
   "mimetype": "text/x-python",
   "name": "python",
   "nbconvert_exporter": "python",
   "pygments_lexer": "ipython3",
   "version": "3.7.4"
  }
 },
 "nbformat": 4,
 "nbformat_minor": 2
}
